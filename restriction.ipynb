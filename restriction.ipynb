{
 "cells": [
  {
   "attachments": {},
   "cell_type": "markdown",
   "metadata": {},
   "source": [
    "Sample dataset from:\n",
    "https://www.ncei.noaa.gov/access/billions/time-series"
   ]
  },
  {
   "cell_type": "code",
   "execution_count": 14,
   "metadata": {},
   "outputs": [
    {
     "name": "stdout",
     "output_type": "stream",
     "text": [
      "There are 31 lines in the dataset.\n"
     ]
    }
   ],
   "source": [
    "# import pandas library\n",
    "import pandas as pd\n",
    "\n",
    "# load sample csv file into dataframe and count rows loaded\n",
    "df = pd.read_csv('E:/Projects/python-pandas/GHCND_sample_csv.csv')\n",
    "print(f'There are {len(df)} lines in the dataset.')"
   ]
  },
  {
   "cell_type": "code",
   "execution_count": 15,
   "metadata": {},
   "outputs": [
    {
     "name": "stdout",
     "output_type": "stream",
     "text": [
      "<class 'pandas.core.frame.DataFrame'>\n",
      "RangeIndex: 31 entries, 0 to 30\n",
      "Data columns (total 9 columns):\n",
      " #   Column        Non-Null Count  Dtype  \n",
      "---  ------        --------------  -----  \n",
      " 0   STATION       31 non-null     object \n",
      " 1   STATION_NAME  31 non-null     object \n",
      " 2   ELEVATION     31 non-null     float64\n",
      " 3   LATITUDE      31 non-null     float64\n",
      " 4   LONGITUDE     31 non-null     float64\n",
      " 5   DATE          31 non-null     int64  \n",
      " 6   TMAX          31 non-null     int64  \n",
      " 7   TMIN          31 non-null     int64  \n",
      " 8   PRCP          31 non-null     int64  \n",
      "dtypes: float64(3), int64(4), object(2)\n",
      "memory usage: 2.3+ KB\n"
     ]
    }
   ],
   "source": [
    "# inspect dataset structure interpred by pandas\n",
    "df.info()"
   ]
  },
  {
   "cell_type": "code",
   "execution_count": 16,
   "metadata": {},
   "outputs": [
    {
     "data": {
      "text/html": [
       "<div>\n",
       "<style scoped>\n",
       "    .dataframe tbody tr th:only-of-type {\n",
       "        vertical-align: middle;\n",
       "    }\n",
       "\n",
       "    .dataframe tbody tr th {\n",
       "        vertical-align: top;\n",
       "    }\n",
       "\n",
       "    .dataframe thead th {\n",
       "        text-align: right;\n",
       "    }\n",
       "</style>\n",
       "<table border=\"1\" class=\"dataframe\">\n",
       "  <thead>\n",
       "    <tr style=\"text-align: right;\">\n",
       "      <th></th>\n",
       "      <th>STATION</th>\n",
       "      <th>STATION_NAME</th>\n",
       "      <th>ELEVATION</th>\n",
       "      <th>LATITUDE</th>\n",
       "      <th>LONGITUDE</th>\n",
       "      <th>DATE</th>\n",
       "      <th>TMAX</th>\n",
       "      <th>TMIN</th>\n",
       "      <th>PRCP</th>\n",
       "    </tr>\n",
       "  </thead>\n",
       "  <tbody>\n",
       "    <tr>\n",
       "      <th>0</th>\n",
       "      <td>GHCND:USC00327027</td>\n",
       "      <td>PETERSBURG 2 N ND US</td>\n",
       "      <td>466.3</td>\n",
       "      <td>48.0355</td>\n",
       "      <td>-98.01</td>\n",
       "      <td>20100101</td>\n",
       "      <td>-178</td>\n",
       "      <td>-311</td>\n",
       "      <td>0</td>\n",
       "    </tr>\n",
       "    <tr>\n",
       "      <th>1</th>\n",
       "      <td>GHCND:USC00327027</td>\n",
       "      <td>PETERSBURG 2 N ND US</td>\n",
       "      <td>466.3</td>\n",
       "      <td>48.0355</td>\n",
       "      <td>-98.01</td>\n",
       "      <td>20100102</td>\n",
       "      <td>-244</td>\n",
       "      <td>-322</td>\n",
       "      <td>0</td>\n",
       "    </tr>\n",
       "    <tr>\n",
       "      <th>2</th>\n",
       "      <td>GHCND:USC00327027</td>\n",
       "      <td>PETERSBURG 2 N ND US</td>\n",
       "      <td>466.3</td>\n",
       "      <td>48.0355</td>\n",
       "      <td>-98.01</td>\n",
       "      <td>20100103</td>\n",
       "      <td>-194</td>\n",
       "      <td>-289</td>\n",
       "      <td>0</td>\n",
       "    </tr>\n",
       "    <tr>\n",
       "      <th>3</th>\n",
       "      <td>GHCND:USC00327027</td>\n",
       "      <td>PETERSBURG 2 N ND US</td>\n",
       "      <td>466.3</td>\n",
       "      <td>48.0355</td>\n",
       "      <td>-98.01</td>\n",
       "      <td>20100104</td>\n",
       "      <td>-167</td>\n",
       "      <td>-200</td>\n",
       "      <td>15</td>\n",
       "    </tr>\n",
       "    <tr>\n",
       "      <th>4</th>\n",
       "      <td>GHCND:USC00327027</td>\n",
       "      <td>PETERSBURG 2 N ND US</td>\n",
       "      <td>466.3</td>\n",
       "      <td>48.0355</td>\n",
       "      <td>-98.01</td>\n",
       "      <td>20100105</td>\n",
       "      <td>-133</td>\n",
       "      <td>-167</td>\n",
       "      <td>9999</td>\n",
       "    </tr>\n",
       "  </tbody>\n",
       "</table>\n",
       "</div>"
      ],
      "text/plain": [
       "             STATION          STATION_NAME  ELEVATION  LATITUDE  LONGITUDE  \\\n",
       "0  GHCND:USC00327027  PETERSBURG 2 N ND US      466.3   48.0355     -98.01   \n",
       "1  GHCND:USC00327027  PETERSBURG 2 N ND US      466.3   48.0355     -98.01   \n",
       "2  GHCND:USC00327027  PETERSBURG 2 N ND US      466.3   48.0355     -98.01   \n",
       "3  GHCND:USC00327027  PETERSBURG 2 N ND US      466.3   48.0355     -98.01   \n",
       "4  GHCND:USC00327027  PETERSBURG 2 N ND US      466.3   48.0355     -98.01   \n",
       "\n",
       "       DATE  TMAX  TMIN  PRCP  \n",
       "0  20100101  -178  -311     0  \n",
       "1  20100102  -244  -322     0  \n",
       "2  20100103  -194  -289     0  \n",
       "3  20100104  -167  -200    15  \n",
       "4  20100105  -133  -167  9999  "
      ]
     },
     "execution_count": 16,
     "metadata": {},
     "output_type": "execute_result"
    }
   ],
   "source": [
    "# inspect dataset first 10 lines\n",
    "df.head(5)"
   ]
  },
  {
   "cell_type": "code",
   "execution_count": 17,
   "metadata": {},
   "outputs": [
    {
     "data": {
      "text/html": [
       "<div>\n",
       "<style scoped>\n",
       "    .dataframe tbody tr th:only-of-type {\n",
       "        vertical-align: middle;\n",
       "    }\n",
       "\n",
       "    .dataframe tbody tr th {\n",
       "        vertical-align: top;\n",
       "    }\n",
       "\n",
       "    .dataframe thead th {\n",
       "        text-align: right;\n",
       "    }\n",
       "</style>\n",
       "<table border=\"1\" class=\"dataframe\">\n",
       "  <thead>\n",
       "    <tr style=\"text-align: right;\">\n",
       "      <th></th>\n",
       "      <th>STATION</th>\n",
       "      <th>STATION_NAME</th>\n",
       "      <th>ELEVATION</th>\n",
       "      <th>LATITUDE</th>\n",
       "      <th>LONGITUDE</th>\n",
       "      <th>DATE</th>\n",
       "      <th>TMAX</th>\n",
       "      <th>TMIN</th>\n",
       "      <th>PRCP</th>\n",
       "    </tr>\n",
       "  </thead>\n",
       "  <tbody>\n",
       "    <tr>\n",
       "      <th>13</th>\n",
       "      <td>GHCND:USC00327027</td>\n",
       "      <td>PETERSBURG 2 N ND US</td>\n",
       "      <td>466.3</td>\n",
       "      <td>48.0355</td>\n",
       "      <td>-98.01</td>\n",
       "      <td>20100114</td>\n",
       "      <td>39</td>\n",
       "      <td>-72</td>\n",
       "      <td>0</td>\n",
       "    </tr>\n",
       "    <tr>\n",
       "      <th>15</th>\n",
       "      <td>GHCND:USC00327027</td>\n",
       "      <td>PETERSBURG 2 N ND US</td>\n",
       "      <td>466.3</td>\n",
       "      <td>48.0355</td>\n",
       "      <td>-98.01</td>\n",
       "      <td>20100116</td>\n",
       "      <td>22</td>\n",
       "      <td>-50</td>\n",
       "      <td>0</td>\n",
       "    </tr>\n",
       "    <tr>\n",
       "      <th>16</th>\n",
       "      <td>GHCND:USC00327027</td>\n",
       "      <td>PETERSBURG 2 N ND US</td>\n",
       "      <td>466.3</td>\n",
       "      <td>48.0355</td>\n",
       "      <td>-98.01</td>\n",
       "      <td>20100117</td>\n",
       "      <td>33</td>\n",
       "      <td>-44</td>\n",
       "      <td>0</td>\n",
       "    </tr>\n",
       "    <tr>\n",
       "      <th>17</th>\n",
       "      <td>GHCND:USC00327027</td>\n",
       "      <td>PETERSBURG 2 N ND US</td>\n",
       "      <td>466.3</td>\n",
       "      <td>48.0355</td>\n",
       "      <td>-98.01</td>\n",
       "      <td>20100118</td>\n",
       "      <td>6</td>\n",
       "      <td>-172</td>\n",
       "      <td>0</td>\n",
       "    </tr>\n",
       "  </tbody>\n",
       "</table>\n",
       "</div>"
      ],
      "text/plain": [
       "              STATION          STATION_NAME  ELEVATION  LATITUDE  LONGITUDE  \\\n",
       "13  GHCND:USC00327027  PETERSBURG 2 N ND US      466.3   48.0355     -98.01   \n",
       "15  GHCND:USC00327027  PETERSBURG 2 N ND US      466.3   48.0355     -98.01   \n",
       "16  GHCND:USC00327027  PETERSBURG 2 N ND US      466.3   48.0355     -98.01   \n",
       "17  GHCND:USC00327027  PETERSBURG 2 N ND US      466.3   48.0355     -98.01   \n",
       "\n",
       "        DATE  TMAX  TMIN  PRCP  \n",
       "13  20100114    39   -72     0  \n",
       "15  20100116    22   -50     0  \n",
       "16  20100117    33   -44     0  \n",
       "17  20100118     6  -172     0  "
      ]
     },
     "execution_count": 17,
     "metadata": {},
     "output_type": "execute_result"
    }
   ],
   "source": [
    "# restriction relational operation\n",
    "df_restric = df[df['TMAX'] > 0]\n",
    "\n",
    "# inspect first 5 lines of the restricted dataframe with TMAX > 0\n",
    "df_restric.head(5)"
   ]
  },
  {
   "cell_type": "code",
   "execution_count": 18,
   "metadata": {},
   "outputs": [
    {
     "name": "stdout",
     "output_type": "stream",
     "text": [
      "There are 4 lines in the dataset.\n",
      "There are 9 columns in the dataset.\n"
     ]
    }
   ],
   "source": [
    "# save \n",
    "df_restric.to_csv('E:/Projects/python-pandas/GHCND_sample_restricted.csv')\n",
    "print(f'There are {len(df_restric)} lines in the dataset.')\n",
    "print(f'There are {len(df_restric.columns)} columns in the dataset.')"
   ]
  }
 ],
 "metadata": {
  "kernelspec": {
   "display_name": "Python 3",
   "language": "python",
   "name": "python3"
  },
  "language_info": {
   "codemirror_mode": {
    "name": "ipython",
    "version": 3
   },
   "file_extension": ".py",
   "mimetype": "text/x-python",
   "name": "python",
   "nbconvert_exporter": "python",
   "pygments_lexer": "ipython3",
   "version": "3.9.7"
  },
  "orig_nbformat": 4,
  "vscode": {
   "interpreter": {
    "hash": "81794d4967e6c3204c66dcd87b604927b115b27c00565d3d43f05ba2f3a2cb0d"
   }
  }
 },
 "nbformat": 4,
 "nbformat_minor": 2
}
